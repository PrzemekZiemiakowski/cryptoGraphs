{
 "cells": [
  {
   "cell_type": "code",
   "execution_count": null,
   "outputs": [],
   "source": [
    "import pandas as pd"
   ],
   "metadata": {
    "collapsed": false,
    "pycharm": {
     "name": "#%%\n"
    }
   }
  },
  {
   "cell_type": "code",
   "execution_count": null,
   "outputs": [],
   "source": [
    "columnListBTC=[\"Date\",\"High\"]\n",
    "bitCoinPrice= pd.read_csv('coin_BitCoin.csv',usecols=columnListBTC)\n",
    "bitCoinPrice['Date']=pd.to_datetime(bitCoinPrice['Date'])"
   ],
   "metadata": {
    "collapsed": false,
    "pycharm": {
     "name": "#%%\n"
    }
   }
  },
  {
   "cell_type": "code",
   "execution_count": null,
   "outputs": [],
   "source": [
    "import requests\n",
    "\n",
    "headers = {\n",
    "    'X-CMC_PRO_API_KEY': 'f14d06bc-09cf-4557-89cd-2d8f3fbb9db4',\n",
    "    'Accepts': 'application/json'\n",
    "}\n",
    "params = {\n",
    "    'start': '1',\n",
    "    'limit': '10',\n",
    "    'convert': 'USD'\n",
    "}\n",
    "url = 'https://pro-api.coinmarketcap.com/v1/cryptocurrency/listings/latest'\n",
    "def readData():\n",
    "    json= requests.get(url, params=params, headers=headers).json()\n",
    "\n",
    "\n",
    "    print(json)\n",
    "    coins =json['data']\n",
    "    return coins"
   ],
   "metadata": {
    "collapsed": false,
    "pycharm": {
     "name": "#%%\n"
    }
   }
  },
  {
   "cell_type": "code",
   "execution_count": null,
   "outputs": [],
   "source": [
    "import squarify\n",
    "from pywaffle import Waffle\n",
    "import matplotlib.pyplot as plt\n",
    "def makeGraph(data):\n",
    "    #preparing data\n",
    "    dataPlot={}\n",
    "    sizes=[]\n",
    "    for x in data:\n",
    "        name=x['slug']\n",
    "        volume = x['quote']['USD']['volume_24h']\n",
    "        sizes.append(volume)\n",
    "        actPrice = x['quote']['USD']['price']\n",
    "\n",
    "        print(name,\" volume: \",volume)\n",
    "        dataPlot.update({name: volume})\n",
    "    print(dataPlot)\n",
    "    labels = [f\"{k} ({round(v / sum(dataPlot.values()) * 100, 2)}%)\" for k, v in dataPlot.items()]\n",
    "    plt.figure(figsize=(32, 18), dpi=80)\n",
    "    squarify.plot(sizes, label=labels,alpha=.8)\n",
    "\n",
    "    plt.axis('off')\n",
    "    plt.show()\n",
    "    fig = plt.figure(\n",
    "        figsize=(16,9), dpi=80,alpha=.8,\n",
    "        FigureClass=Waffle,\n",
    "        rows=10,\n",
    "        columns=11,\n",
    "        values=dataPlot,\n",
    "        rounding_rule='nearest',\n",
    "        plot_anchor='S',\n",
    "        title={\n",
    "            'label': 'Udział kryptowalut na rynku po 24h obrotu',\n",
    "            'loc': 'left',\n",
    "            'fontdict': {\n",
    "                'fontsize': 20\n",
    "            }\n",
    "        },\n",
    "        labels=[f\"{k} ({round(v / sum(dataPlot.values()) * 100,2)}%)\" for k, v in dataPlot.items()],\n",
    "        legend={'loc': 'upper left', 'bbox_to_anchor': (1, 1)}\n",
    "\n",
    "    )\n",
    "    fig.set_facecolor('#DDDDDD')\n",
    "    plt.show()"
   ],
   "metadata": {
    "collapsed": false,
    "pycharm": {
     "name": "#%%\n"
    }
   }
  },
  {
   "cell_type": "code",
   "execution_count": null,
   "outputs": [],
   "source": [
    "#wczytywanie danych z historii bitcoina\n"
   ],
   "metadata": {
    "collapsed": false,
    "pycharm": {
     "name": "#%%\n"
    }
   }
  }
 ],
 "metadata": {
  "kernelspec": {
   "display_name": "Python 3",
   "language": "python",
   "name": "python3"
  },
  "language_info": {
   "codemirror_mode": {
    "name": "ipython",
    "version": 2
   },
   "file_extension": ".py",
   "mimetype": "text/x-python",
   "name": "python",
   "nbconvert_exporter": "python",
   "pygments_lexer": "ipython2",
   "version": "2.7.6"
  }
 },
 "nbformat": 4,
 "nbformat_minor": 0
}